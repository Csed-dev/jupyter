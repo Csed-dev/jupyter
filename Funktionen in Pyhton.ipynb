{
 "cells": [
  {
   "cell_type": "markdown",
   "id": "bf81d563-db45-4ec5-ac33-92ed10113e43",
   "metadata": {},
   "source": [
    "# Funktionen in Python"
   ]
  },
  {
   "cell_type": "markdown",
   "id": "cdb6435f-dd52-4cb2-917f-adc44913034d",
   "metadata": {},
   "source": [
    "Eine Funktion in Python ist ein wiederverwendbarer Block von Code, der eine spezifische Aufgabe ausführt. Funktionen werden definiert, um Code zu organisieren, die Lesbarkeit zu verbessern und die Wiederverwendung von Code zu erleichtern. Sie können Parameter enthalten, die beim Aufruf der Funktion Werte übernehmen und können einen Wert zurückgeben. Funktionen helfen dabei, das Programm in kleinere, übersichtlichere Teile zu unterteilen."
   ]
  },
  {
   "cell_type": "markdown",
   "id": "d33590a6-4c5a-4abc-bd2e-aa70ab2ff27b",
   "metadata": {},
   "source": [
    "Python bietet eine umfangreiche Standardbibliothek, die eine Vielzahl vordefinierter Module und Funktionen enthält. Diese Bibliotheken ermöglichen es Entwicklern, viele gängige Programmieraufgaben effizient zu bewältigen, ohne dass sie den Code von Grund auf neu schreiben müssen. Von Dateioperationen über Netzwerkkommunikation bis hin zur Webentwicklung – die Python-Standardbibliothek deckt ein breites Spektrum an Anwendungsfällen ab und macht Python zu einer vielseitigen und leistungsfähigen Programmiersprache."
   ]
  },
  {
   "cell_type": "markdown",
   "id": "f824fbf0-a134-45d3-86bf-01b2d89d068a",
   "metadata": {},
   "source": [
    "Quelle zur offiziellen Dokumentation: https://docs.python.org/3/library/functions.html"
   ]
  },
  {
   "cell_type": "markdown",
   "id": "3c19aaf1-708b-433a-861f-3fa3e82d6bff",
   "metadata": {},
   "source": [
    "## Grundlegende Funtionen"
   ]
  },
  {
   "cell_type": "markdown",
   "id": "6e6cb3b2-a617-4a04-bfff-79f58cbf1a0a",
   "metadata": {},
   "source": [
    "### print()"
   ]
  },
  {
   "cell_type": "markdown",
   "id": "ac685a13-c3bd-4ad1-88b8-df2ecec5b10f",
   "metadata": {},
   "source": [
    "Druck Information wie Texte, Variablenwerte oder das Ergebnis von Berechnungen in einer Konsole oder einem Terminal"
   ]
  },
  {
   "cell_type": "markdown",
   "id": "85fceb19-8ee3-4dda-be23-460cde96572c",
   "metadata": {},
   "source": [
    "##### Beispiele"
   ]
  },
  {
   "cell_type": "code",
   "execution_count": null,
   "id": "3562d7b4-a41a-4ec6-890b-2ce865540e01",
   "metadata": {},
   "outputs": [],
   "source": [
    "print(\"HFU\") # hier wird Text direkt gedruckt"
   ]
  },
  {
   "cell_type": "code",
   "execution_count": null,
   "id": "396a1722-ceed-4cca-8ce5-88bd1474f959",
   "metadata": {},
   "outputs": [],
   "source": [
    "beste_hochschule = hfu\n",
    "print(beste_hochschule) # hier wird der Wert einer Variable gedruckt"
   ]
  },
  {
   "cell_type": "code",
   "execution_count": null,
   "id": "b908e822-c7d7-4e8c-8e89-d09b733a3398",
   "metadata": {},
   "outputs": [],
   "source": [
    "x = 3\n",
    "y = 5\n",
    "print(x+y) # man kann auch Berechnungen innerhalb der Funktion ausführen"
   ]
  },
  {
   "cell_type": "markdown",
   "id": "13825e2c-280e-4093-b99f-0af8751172de",
   "metadata": {},
   "source": [
    "#### Formatierte Ausgabe"
   ]
  },
  {
   "cell_type": "markdown",
   "id": "6c13e51f-6ec5-4b6e-af00-99000bbb58c3",
   "metadata": {},
   "source": [
    "Eine formatierte Ausgabe ermöglicht es Informationen zu drucken, die dem Entwickler nicht bekannt sind, oder die sich ändern können."
   ]
  },
  {
   "cell_type": "code",
   "execution_count": null,
   "id": "391e5816-e110-49e7-804d-752daf462498",
   "metadata": {},
   "outputs": [],
   "source": [
    "alter = 20\n",
    "print(f\"Ich bin {alter} Jahre alt.\")"
   ]
  },
  {
   "cell_type": "code",
   "execution_count": null,
   "id": "610437da-57a5-4567-b76c-b4c2893299cf",
   "metadata": {},
   "outputs": [],
   "source": [
    "alter = 20\n",
    "print(\"Ich bin {} Jahre alt.\".format(alter))"
   ]
  },
  {
   "cell_type": "markdown",
   "id": "65bcd178-8f38-47eb-aff1-6194c4af67df",
   "metadata": {},
   "source": [
    "Beide Methoden erzeugen die Ausgabe: \"Ich bin 20 Jahre alt.\", allerdings ist die obere die Konvention"
   ]
  },
  {
   "cell_type": "markdown",
   "id": "0516a35a-8741-4e01-a3c1-66d5bdf0ecee",
   "metadata": {},
   "source": [
    "#### Drucken mehrerer Variablen"
   ]
  },
  {
   "cell_type": "markdown",
   "id": "992e555b-80cb-41df-b2ac-995a7e943ec2",
   "metadata": {},
   "source": [
    "Darüber hinaus unterstützt print() auch das Ausgeben mehrerer Items, getrennt durch Kommas, wobei standardmäßig ein Leerzeichen als Trennzeichen verwendet wird:"
   ]
  },
  {
   "cell_type": "code",
   "execution_count": null,
   "id": "9a357055-6fa5-46cd-bc77-97b9a2435715",
   "metadata": {},
   "outputs": [],
   "source": [
    "name = \"David\"\n",
    "alter= 23\n",
    "print(\"Hallo\", name, \", du bist\", alter, \"Jahre alt.\")"
   ]
  },
  {
   "cell_type": "markdown",
   "id": "9ce6a5e9-c1e6-4894-8d80-4eb4abe868ff",
   "metadata": {},
   "source": [
    "#### end Parameter"
   ]
  },
  {
   "cell_type": "markdown",
   "id": "20ea32e6-2905-4a48-a30d-f666687077a8",
   "metadata": {},
   "source": [
    "Mit dem Parameter `end` können Sie eine Zeichenkette angeben, die nach der Ausgabe der Funktion print() gedruckt wird."
   ]
  },
  {
   "cell_type": "markdown",
   "id": "755585ef-82a0-4c97-9d6a-94d0e2646b75",
   "metadata": {},
   "source": [
    "Standartgemäß, also als default, ist der Parameter `end` auf new line gesetzt. Das heißt, nach jedem Print wird eine neue Zeile erzeugt."
   ]
  },
  {
   "cell_type": "code",
   "execution_count": null,
   "id": "b97806f8-8007-410f-acf1-4978db6047fc",
   "metadata": {},
   "outputs": [],
   "source": [
    "print(\"Hochschule\", end=\", \")\n",
    "print(\"Furtwangen\")"
   ]
  },
  {
   "cell_type": "markdown",
   "id": "d018efe4-28d0-419e-941d-e5f48e1e8275",
   "metadata": {},
   "source": [
    "In diesem Beispiel werden beide Ausgaben in einer Zeile geschrieben."
   ]
  },
  {
   "cell_type": "markdown",
   "id": "1c3300f2-3fa6-40cb-930e-52963592d527",
   "metadata": {},
   "source": [
    "#### sep Parameter"
   ]
  },
  {
   "cell_type": "markdown",
   "id": "c2b01766-9cee-479e-a86d-c12534a755b8",
   "metadata": {},
   "source": [
    "Mit dem Parameter sep können Sie eine Zeichenkette angeben, die zur Trennung der von der Funktion print() gedruckten Elemente verwendet wird."
   ]
  },
  {
   "cell_type": "code",
   "execution_count": null,
   "id": "74df2de5-aaf4-4f55-a9df-5de3753719ec",
   "metadata": {},
   "outputs": [],
   "source": [
    "print(\"Hochschule\", \"Furtwangen\", \"Schwarzwald\", \"BW\", sep=\" in \")"
   ]
  },
  {
   "cell_type": "markdown",
   "id": "e3353026-4c07-4ab4-9eff-ae4b8b220ae8",
   "metadata": {},
   "source": [
    "Wie man erkennnen kann, wird **zwischen** jeder Zeichenkette \"` in `\" hinzugefügt"
   ]
  },
  {
   "cell_type": "markdown",
   "id": "d28695b1-3463-4fab-bb6d-dd7c5d5ab41c",
   "metadata": {},
   "source": [
    "Jetzt können wir beide Parameter zusammen benutzen:"
   ]
  },
  {
   "cell_type": "code",
   "execution_count": null,
   "id": "9e80b588-fb55-420a-9ee4-264212fca3f1",
   "metadata": {},
   "outputs": [],
   "source": [
    "print(\"Hochschule\", \"Furtwangen\", \"Schwarzwald\", \"BW\", sep=\" in \", end=\".\")"
   ]
  },
  {
   "cell_type": "markdown",
   "id": "8fc4e95a-8cb8-40bf-8404-84927ff9269c",
   "metadata": {},
   "source": [
    "Hier wird `sep` verwendet um die Strings mit \"` in `\" zu trennen und mit `end` setzen wir einen Punkt am Ende der Ausgabe."
   ]
  },
  {
   "cell_type": "markdown",
   "id": "6beb1830-fb78-482a-bb6d-edfdff9ab2ba",
   "metadata": {},
   "source": [
    "### input()"
   ]
  },
  {
   "cell_type": "markdown",
   "id": "2eadc106-62fb-4a7d-b3e1-27cc1078a306",
   "metadata": {},
   "source": []
  },
  {
   "cell_type": "markdown",
   "id": "31153a47-78cb-47dd-abf5-74a8808d5718",
   "metadata": {},
   "source": [
    "### len()"
   ]
  },
  {
   "cell_type": "markdown",
   "id": "a6f91d1f-7956-449a-9c05-e3a0d960b982",
   "metadata": {},
   "source": []
  },
  {
   "cell_type": "markdown",
   "id": "4d626619-ec1a-46c7-b2a2-ef28098f8c2a",
   "metadata": {},
   "source": [
    "### type()"
   ]
  },
  {
   "cell_type": "markdown",
   "id": "ca3c6763-593f-43a6-a9e9-c6abc93eb1e4",
   "metadata": {},
   "source": []
  },
  {
   "cell_type": "markdown",
   "id": "9b3774d0-73a5-4c1a-8f25-a2d022385a5f",
   "metadata": {},
   "source": [
    "## Mathematische Funktionen"
   ]
  },
  {
   "cell_type": "markdown",
   "id": "defe394d-9944-48a6-a66a-dd06568adf39",
   "metadata": {},
   "source": [
    "### abs()"
   ]
  },
  {
   "cell_type": "markdown",
   "id": "adb86871-7c27-4358-9af7-3d70cda6eb0e",
   "metadata": {},
   "source": []
  },
  {
   "cell_type": "markdown",
   "id": "a581be03-d21f-4c0a-ae78-31f02f3bbed1",
   "metadata": {},
   "source": [
    "### round()"
   ]
  },
  {
   "cell_type": "markdown",
   "id": "263ca0f3-aa16-4987-9473-2b29e13864bf",
   "metadata": {},
   "source": []
  },
  {
   "cell_type": "markdown",
   "id": "9897e107-3dbf-4be3-b2f2-af86ea253753",
   "metadata": {},
   "source": [
    "### sum()"
   ]
  },
  {
   "cell_type": "markdown",
   "id": "058798fd-7659-4916-9fb9-4f32e1fec9f1",
   "metadata": {},
   "source": []
  },
  {
   "cell_type": "markdown",
   "id": "df53b430-0ce6-46fb-bc58-f73f8b7b6325",
   "metadata": {},
   "source": [
    "### min(), max()"
   ]
  },
  {
   "cell_type": "markdown",
   "id": "f6027c0b-6abe-4a08-a504-8d0f0a79e58f",
   "metadata": {},
   "source": []
  },
  {
   "cell_type": "markdown",
   "id": "6b16122f-0d5a-46bb-b414-20de0981d48e",
   "metadata": {},
   "source": [
    "## Typkonvertierung"
   ]
  },
  {
   "cell_type": "markdown",
   "id": "984783ba-e08f-4efe-93b6-a44d6deb94de",
   "metadata": {},
   "source": [
    "### int(), float(), str()"
   ]
  },
  {
   "cell_type": "markdown",
   "id": "eb566ccb-e5ca-4097-b078-ad6ab50fad3b",
   "metadata": {},
   "source": []
  },
  {
   "cell_type": "markdown",
   "id": "14206b9b-cd54-49cf-a02f-6d8a8b5fda45",
   "metadata": {},
   "source": [
    "### list(), tuple(), set()"
   ]
  },
  {
   "cell_type": "markdown",
   "id": "b03ee996-3c4d-4f9c-bf46-01661f8cd56c",
   "metadata": {},
   "source": []
  },
  {
   "cell_type": "markdown",
   "id": "de396aaf-94b3-40a8-8393-22dce3dfc73c",
   "metadata": {},
   "source": [
    "## Datenstruktur-bezogene Funktionen"
   ]
  },
  {
   "cell_type": "markdown",
   "id": "76d9fc4f-4f9b-45f8-af13-5144b04658e3",
   "metadata": {},
   "source": [
    "### range()"
   ]
  },
  {
   "cell_type": "markdown",
   "id": "812822d7-7cf4-4fa1-8e74-b7319707bb77",
   "metadata": {},
   "source": []
  },
  {
   "cell_type": "markdown",
   "id": "d50cad23-3c51-4e3b-a7b7-b898e7d77dfd",
   "metadata": {},
   "source": [
    "### zip()"
   ]
  },
  {
   "cell_type": "markdown",
   "id": "0023e930-4925-4c1c-970e-e16fdde31cfa",
   "metadata": {},
   "source": []
  },
  {
   "cell_type": "markdown",
   "id": "84b635bc-5dae-4eec-ae5d-9a1b32592bfd",
   "metadata": {},
   "source": [
    "### map()"
   ]
  },
  {
   "cell_type": "markdown",
   "id": "e0921297-45c4-49fb-b389-f8cc79514183",
   "metadata": {},
   "source": []
  },
  {
   "cell_type": "markdown",
   "id": "80d9a107-4981-46f7-890f-ba25d575c907",
   "metadata": {},
   "source": [
    "### filter()"
   ]
  },
  {
   "cell_type": "markdown",
   "id": "abcb6e81-f3e4-4bd3-8f5d-bd99b12a6048",
   "metadata": {},
   "source": []
  }
 ],
 "metadata": {
  "kernelspec": {
   "display_name": "Python 3 (ipykernel)",
   "language": "python",
   "name": "python3"
  },
  "language_info": {
   "codemirror_mode": {
    "name": "ipython",
    "version": 3
   },
   "file_extension": ".py",
   "mimetype": "text/x-python",
   "name": "python",
   "nbconvert_exporter": "python",
   "pygments_lexer": "ipython3",
   "version": "3.12.2"
  }
 },
 "nbformat": 4,
 "nbformat_minor": 5
}
