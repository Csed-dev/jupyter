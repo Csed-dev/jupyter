{
 "cells": [
  {
   "cell_type": "markdown",
   "id": "91c999ed-6c6e-4d92-acf0-10fd3d8f04c4",
   "metadata": {},
   "source": [
    "# Einführung in Python"
   ]
  },
  {
   "cell_type": "markdown",
   "id": "92a94894-da45-487d-86ed-7589affb9205",
   "metadata": {},
   "source": [
    "Willkommen zu dieser Einführung in Python, einer der vielseitigsten und weitverbreitetsten Programmiersprachen der Welt. Python ist bekannt für seine einfache Syntax, Lesbarkeit und die breite Palette an Anwendungsmöglichkeiten - von Webentwicklung über Datenanalyse bis hin zu maschinellem Lernen."
   ]
  },
  {
   "cell_type": "markdown",
   "id": "5b60ad57-7f27-4f31-a8ee-a6c1eac1ce64",
   "metadata": {},
   "source": [
    "## Warum Jupyter Notebooks?"
   ]
  },
  {
   "cell_type": "markdown",
   "id": "cfcf6fd3-a1f8-4877-a1b1-5eaf731177d4",
   "metadata": {},
   "source": [
    "Jupyter Notebooks bieten eine interaktive Umgebung, in der Code ausgeführt, Text hinzugefügt und Ergebnisse in Echtzeit angezeigt werden können. Dies macht sie zu einem idealen Werkzeug für das Lernen, Experimentieren und Präsentieren von Python-Code."
   ]
  },
  {
   "cell_type": "markdown",
   "id": "05d6712c-51d0-4609-891f-6b1def8d8332",
   "metadata": {},
   "source": [
    "## Datentypen in Python"
   ]
  },
  {
   "cell_type": "markdown",
   "id": "6295f134-547f-4fd3-92e6-be0ef1b52535",
   "metadata": {},
   "source": [
    "Ein Datentyp definiert die Art von Wert, den eine Variable speichern kann, z.B. Zahlen, Text oder komplexere Datenstrukturen. Wichtige Datentypen in Python umfassen:\n",
    "- Integer (int): Ganze Zahlen, z.B. ```5```\n",
    "- Float (float): Fließkommazahlen, z.B. ```3.14```\n",
    "- String (str): Text, z.B. ```'Hello'```\n",
    "- List: Eine geordnete Sammlung, z.B. ```[1, 2, 3]```\n",
    "- Dictionary (dict): Schlüssel-Wert-Paare, z.B. ```{'name': 'Python}```"
   ]
  },
  {
   "cell_type": "code",
   "execution_count": null,
   "id": "dc000472-4636-447f-9f42-573f69964162",
   "metadata": {},
   "outputs": [],
   "source": [
    "my_int = 10\n",
    "my_float = 20.5\n",
    "my_str = \"Python\"\n",
    "my_list = [1, 2, 3]\n",
    "my_dict = {'key': 'value'}"
   ]
  },
  {
   "cell_type": "markdown",
   "id": "8e8bf5aa-a6bc-4472-9b79-a86f509d06ef",
   "metadata": {},
   "source": [
    "## Datentypen zuweisen"
   ]
  },
  {
   "cell_type": "markdown",
   "id": "69bdddba-6f0f-47df-b750-a000995cbb19",
   "metadata": {},
   "source": [
    "Bitte beachten Sie, dass die Nutzung von ```#``` in der Programmierumgebung dazu dient Kommentare zu erstellen, also Text der vom Compiler ignoriert wird."
   ]
  },
  {
   "cell_type": "markdown",
   "id": "a5933d0b-e6c7-47ff-a766-ccb211585575",
   "metadata": {},
   "source": [
    "### Aufgabe 1: Integer"
   ]
  },
  {
   "cell_type": "markdown",
   "id": "f17d4b3a-2b2f-4300-91f8-b4032a772880",
   "metadata": {},
   "source": [
    "Weise einer Variablen mit den Namen ```zahl``` eine ganze Zahl zu. Danach durcke ```shift + enter```, um den Code auszuführen"
   ]
  },
  {
   "cell_type": "code",
   "execution_count": null,
   "id": "bdb5b999-cfb6-42ba-8809-9dceea7152b1",
   "metadata": {},
   "outputs": [],
   "source": [
    "# Hier können Sie schreiben Ihre Zahl schreiben\n",
    "\n",
    "print(zahl)"
   ]
  },
  {
   "cell_type": "markdown",
   "id": "e2072e56-ecbb-4158-a2d3-380b6f8b4608",
   "metadata": {},
   "source": [
    "Wie man sehen kann, hat die Funktion ```print``` die Zahl gedruckt, die Sie vorhin gespeichert hatten. "
   ]
  },
  {
   "cell_type": "markdown",
   "id": "f0869b2b-ae6d-4dc1-b0c6-e7c4f927a92f",
   "metadata": {
    "jp-MarkdownHeadingCollapsed": true
   },
   "source": [
    "###### Lösung"
   ]
  },
  {
   "cell_type": "code",
   "execution_count": null,
   "id": "45fd5e30-48bc-4150-b88c-8ce37005ad59",
   "metadata": {},
   "outputs": [],
   "source": [
    "# Hier können Sie schreiben\n",
    "zahl = 42\n",
    "print(zahl)"
   ]
  },
  {
   "cell_type": "markdown",
   "id": "d1991f29-4d14-4003-88db-ecea80b3fbfc",
   "metadata": {},
   "source": [
    "### Aufgabe 2: String"
   ]
  },
  {
   "cell_type": "markdown",
   "id": "4023880c-9d93-48fa-9d4d-c725e2e99809",
   "metadata": {},
   "source": [
    "Probieren Sie jetzt einen **String** zu erstellen und diesen dann auch zu drücken."
   ]
  },
  {
   "cell_type": "code",
   "execution_count": null,
   "id": "84488def-e2ff-4f3e-84d5-15c72447e36b",
   "metadata": {},
   "outputs": [],
   "source": [
    "# String erstellen und drucken\n"
   ]
  },
  {
   "cell_type": "markdown",
   "id": "59bc0bd5-af1c-4543-ac1d-21b8a380be97",
   "metadata": {
    "jp-MarkdownHeadingCollapsed": true
   },
   "source": [
    "###### Lösung"
   ]
  },
  {
   "cell_type": "code",
   "execution_count": null,
   "id": "0e234d4f-ba28-42ae-91bd-9dcba4e54f4f",
   "metadata": {},
   "outputs": [],
   "source": [
    "# String erstellen und drucken\n",
    "str = \"hello\" # oder 'hello'\n",
    "print(str)"
   ]
  },
  {
   "cell_type": "markdown",
   "id": "9246e1c0-e35b-4f22-8390-10f15532ffc5",
   "metadata": {},
   "source": [
    "### Aufgabe 3: Addition"
   ]
  },
  {
   "cell_type": "markdown",
   "id": "eb3579c8-791f-4a9c-b108-9e016f63eeba",
   "metadata": {},
   "source": [
    "Schaffen Sie es jetzt zwei Zahlen zusammen zu addieren?\n",
    "Tipp: Addition funktioniert genau gleich wie in der Mathematik."
   ]
  },
  {
   "cell_type": "code",
   "execution_count": null,
   "id": "cfd7e6d6-6a71-4ced-b4fb-8db6573b314a",
   "metadata": {},
   "outputs": [],
   "source": [
    "# Addition in 'summe' ausführen\n",
    "x = 12\n",
    "y = 30\n",
    "summe = \n",
    "print(summe)"
   ]
  },
  {
   "cell_type": "markdown",
   "id": "27293b06-82e1-4efd-a66d-e72f35927490",
   "metadata": {},
   "source": [
    "Genauso kann man auch andere arithmetische Operatoren nutzen, wie ```+, -, *, / und %```"
   ]
  },
  {
   "cell_type": "markdown",
   "id": "7f7d94e1-c1a2-4cb7-8807-4b830b70e45d",
   "metadata": {
    "jp-MarkdownHeadingCollapsed": true
   },
   "source": [
    "###### Lösung"
   ]
  },
  {
   "cell_type": "code",
   "execution_count": null,
   "id": "81644470-bf62-43a0-b83c-b0961f0b60c3",
   "metadata": {},
   "outputs": [],
   "source": [
    "# Addition in 'summe' ausführen\n",
    "x = 12\n",
    "y = 30\n",
    "summe = x + y\n",
    "print(summe)"
   ]
  },
  {
   "cell_type": "markdown",
   "id": "f45f7065-b4ff-422c-aac1-92092bc71a1c",
   "metadata": {},
   "source": [
    "## Kontrollstrukturen"
   ]
  },
  {
   "cell_type": "markdown",
   "id": "36c04464-766d-4e9e-874f-2fa324587fab",
   "metadata": {},
   "source": [
    "Kontrollstrukturen in Python ermöglichen es Ihnen, den Fluss eines Programms zu steuern. Hierzu gehören Entscheidungen (mit `if-Anweisungen`) und Schleifen (mit `for` oder `while`)."
   ]
  },
  {
   "cell_type": "markdown",
   "id": "1fe0d2fc-c608-4cc8-b608-c769389a4cfe",
   "metadata": {},
   "source": [
    "### if-Anweisung"
   ]
  },
  {
   "cell_type": "markdown",
   "id": "6ae4d192-b326-4def-bfbd-eedf750dbe01",
   "metadata": {},
   "source": [
    "Mit `if` können Sie Bedingungen überprüfen und entsprechend darauf reagieren.\n",
    "Hier ein Beispiel dazu:"
   ]
  },
  {
   "cell_type": "code",
   "execution_count": null,
   "id": "9c0ba985-e676-4f0b-8186-4f7041809abf",
   "metadata": {},
   "outputs": [],
   "source": [
    "x = 12\n",
    "\n",
    "if x > 10:\n",
    "    print(\"x ist größer als 10\")\n",
    "elif x < 10:\n",
    "    print(\"x ist kleiner 10\")\n",
    "else:\n",
    "    print(\"x ist gleich 10\")"
   ]
  },
  {
   "cell_type": "markdown",
   "id": "12c2e0a9-7e36-4216-a630-ec5ad94c8f7a",
   "metadata": {},
   "source": [
    "Zuerst wird überprüft, ob `x > 10` ist. Wenn das der Fall ist, wird **nur** diese Anweisung erfüllt und die anderen werden ignoriert. <br>\n",
    "Als nächstes wird geprüft, ob `x < 10` ist. Dies wird mit `elif` erriecht und steht für `else if`, also `sonst wenn`. <br>\n",
    "Als nächstes wird mit `else`, die letzte Bedingung ausgeführt. <br>\n",
    "Bitte beachten Sie, dass wenn Sie die Variable `x` ändern, jeweils **nur** die zugehörige Anweisung erfüllt wird."
   ]
  },
  {
   "cell_type": "markdown",
   "id": "e74164da-6678-41b1-a0c9-69e44394f919",
   "metadata": {},
   "source": [
    "Somit sieht eine Struktur einer `if`-Anweisung wie gefolgt aus:"
   ]
  },
  {
   "cell_type": "code",
   "execution_count": null,
   "id": "5ca474b1-91bb-464a-b5e7-0438f950a374",
   "metadata": {},
   "outputs": [],
   "source": [
    "if bedingung:\n",
    "    # Anweisung\n",
    "elif bedingung: # dieser Abschnitt kann bei bedarf auch weggelassen werden\n",
    "    # Anweisung\n",
    "else: # dieser Abschnitt kann bei bedarf auch weggelassen werden\n",
    "    # Anweisung"
   ]
  },
  {
   "cell_type": "markdown",
   "id": "e336c839-42dc-43d6-a71d-46b141bdfb2e",
   "metadata": {},
   "source": [
    "#### Aufgabe"
   ]
  },
  {
   "cell_type": "markdown",
   "id": "85092d99-7cab-4e13-925a-b9a3209e2f81",
   "metadata": {},
   "source": [
    "Schreibe ein Programm, das überprüft, ob eine Zahl positiv, negativ, oder gleich null ist."
   ]
  },
  {
   "cell_type": "code",
   "execution_count": null,
   "id": "32683cbe-79e3-41f8-8df4-e17a4848640c",
   "metadata": {},
   "outputs": [],
   "source": [
    "x = 1\n",
    "# Ergänze den Code mit if, elif und else\n",
    "\n",
    "    print(\"x ist positiv\")\n",
    "\n",
    "    print(\"x ist negativ\")\n",
    "\n",
    "    print(\"x ist 0\")"
   ]
  },
  {
   "cell_type": "markdown",
   "id": "c12de342-d86d-419a-8e00-b8dd2e72dd72",
   "metadata": {},
   "source": [
    "###### Lösung"
   ]
  },
  {
   "cell_type": "code",
   "execution_count": null,
   "id": "dd8756bc-60be-4788-80ac-d5437d7c225c",
   "metadata": {},
   "outputs": [],
   "source": [
    "x = 1\n",
    "# Ergänze den Code mit if, elif und else\n",
    "if x > 0:\n",
    "    print(\"x ist positiv\")\n",
    "elif x < 0:\n",
    "    print(\"x ist negativ\")\n",
    "else:\n",
    "    print(\"x ist 0\")"
   ]
  },
  {
   "cell_type": "markdown",
   "id": "dc82483f-90c3-49f1-b04c-d169f78a09c7",
   "metadata": {},
   "source": [
    "### for-Schleife"
   ]
  },
  {
   "cell_type": "markdown",
   "id": "28eae824-cb17-402e-b333-154fd525a917",
   "metadata": {},
   "source": [
    "`for`-Schleifen werden verwendet, um über eine Sequenz (wie eine Liste oder einen String) zu iterieren, das heißt durchzugehen. <br>\n",
    "Hier ein erste Beispiel:"
   ]
  },
  {
   "cell_type": "code",
   "execution_count": null,
   "id": "e38156ed-82f4-4539-88c0-d005b15e30df",
   "metadata": {},
   "outputs": [],
   "source": [
    "x = [1,2,3,4,5]\n",
    "for i in x:\n",
    "    print(i)"
   ]
  },
  {
   "cell_type": "markdown",
   "id": "561a076f-5115-4d7d-ac5b-725a836fc98d",
   "metadata": {},
   "source": [
    "In diesem Beipsiel wird zuerst eine `Liste` mit 5 Elementen vom Typ `int` erstellt und anschließend gedruckt."
   ]
  },
  {
   "cell_type": "markdown",
   "id": "0f0f321c-4ab2-47ae-b035-85f2bdf0bc62",
   "metadata": {},
   "source": [
    "Dies ist die Struktur einer ´for´-Schleife"
   ]
  },
  {
   "cell_type": "code",
   "execution_count": null,
   "id": "5c38c36a-38f9-4a27-bf9e-05360547999f",
   "metadata": {},
   "outputs": [],
   "source": [
    "for element in sequenz:\n",
    "    # Aktion für jedes Element"
   ]
  },
  {
   "cell_type": "markdown",
   "id": "c44a1ea8-6640-4bcf-9bbf-027644b09611",
   "metadata": {},
   "source": [
    "### while-Schleife"
   ]
  },
  {
   "cell_type": "markdown",
   "id": "085a9234-d48d-4143-869c-9ff8e3aaae18",
   "metadata": {},
   "source": [
    "Mit `while` wird ein Block von Anweisungen so lange ausgeführt, wie eine Bedingung wahr ist."
   ]
  },
  {
   "cell_type": "code",
   "execution_count": null,
   "id": "afbf267b-973e-4ae0-82a4-19a3f0d8e393",
   "metadata": {},
   "outputs": [],
   "source": [
    "i = 0\n",
    "while i < 5:\n",
    "    print(f\"{i}\")\n",
    "    i = i + 1\n"
   ]
  },
  {
   "cell_type": "markdown",
   "id": "ee86309f-82f0-4bb9-8799-4dd4df038db5",
   "metadata": {},
   "source": [
    "Hier wird zuerst eine Variable `i` erstellt und mit dem Wert 0 initialisiert. <br>\n",
    "Dann wird eine Bedingung für die `while`-Schleife gesetzt, mit `i < 5`, also so lange i kleiner 5 ist, <br>\n",
    "wird `i` gedruckt mit `print(f\"{i}\")`. <br>\n",
    "Anschließend wird die 1 auf die Variable `i` addiert (rechts) und in der Variable `i` gespeichert (links) "
   ]
  },
  {
   "cell_type": "markdown",
   "id": "699b6938-e28e-4b5d-9f4a-fb1cd9551924",
   "metadata": {},
   "source": [
    "Dies ist die Struktur einer `while`-Schleife"
   ]
  },
  {
   "cell_type": "code",
   "execution_count": null,
   "id": "ef58f9e8-6567-4d74-a06c-51a1672cb63d",
   "metadata": {},
   "outputs": [],
   "source": [
    "while bedingung:\n",
    "    # Aktion, solange Bedingung wahr ist"
   ]
  }
 ],
 "metadata": {
  "kernelspec": {
   "display_name": "Python 3 (ipykernel)",
   "language": "python",
   "name": "python3"
  },
  "language_info": {
   "codemirror_mode": {
    "name": "ipython",
    "version": 3
   },
   "file_extension": ".py",
   "mimetype": "text/x-python",
   "name": "python",
   "nbconvert_exporter": "python",
   "pygments_lexer": "ipython3",
   "version": "3.12.2"
  }
 },
 "nbformat": 4,
 "nbformat_minor": 5
}
