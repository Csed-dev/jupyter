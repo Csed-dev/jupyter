{
 "cells": [
  {
   "cell_type": "markdown",
   "id": "81b4f5a7-6d1e-4082-a3a2-22da3ab52d6b",
   "metadata": {},
   "source": [
    "# Problem zu lösen"
   ]
  },
  {
   "cell_type": "markdown",
   "id": "d51b7f52-3065-4726-95bf-560ba2635996",
   "metadata": {},
   "source": [
    "Das Ziel ist die Entwicklung eines Python-Programms, das verschiedene Bildfilter auf Bilder anwenden kann: Grayscale (Graustufen), Sepia, Reflect (Spiegelung) und Blur (Weichzeichnung). Diese Filter sollen das Originalbild auf unterschiedliche Weise visuell verändern, um verschiedene Effekte zu erzielen."
   ]
  },
  {
   "cell_type": "markdown",
   "id": "11465db1-ce6e-4485-b9fb-07bbfd4b5b4d",
   "metadata": {},
   "source": [
    "Funktionsweise:"
   ]
  },
  {
   "cell_type": "markdown",
   "id": "a9f4a782-e24b-4222-b469-115e3f532120",
   "metadata": {},
   "source": [
    "# Demo ausführung"
   ]
  },
  {
   "cell_type": "markdown",
   "id": "95e9f34e-d8dc-474d-b1f3-091e82bc12d5",
   "metadata": {},
   "source": [
    "Als erstes konvertiere ich eine JPG in ein BMP mit 24 Bit für True Color. Dazu muss die \"rows direction\" auf \"top-bottom\" eingestellt werden<br>\n",
    "Dazu nutze ich: https://online-converting.com/image/convert2bmp/"
   ]
  },
  {
   "cell_type": "markdown",
   "id": "bd6b628e-bf58-4798-9df1-92bf09381cae",
   "metadata": {},
   "source": [
    "![](Downloads/hfu_tuttlingen.bmp)"
   ]
  },
  {
   "cell_type": "markdown",
   "id": "a88cad55-de95-4114-8032-2eb24fce1883",
   "metadata": {},
   "source": [
    "Als nächstes führe ich den notdenwigen Befehl aus, um den Filter anzuwenden und eine neue Datei zu erzeugen"
   ]
  },
  {
   "cell_type": "markdown",
   "id": "ba935945-998a-4a15-96fb-23b1940fcd29",
   "metadata": {},
   "source": [
    "`./filter -g ./images/hfu_tuttlingen.bmp output1-grayscale.bmp`"
   ]
  },
  {
   "cell_type": "markdown",
   "id": "49c00703-97fa-4f8d-94ec-4d1403bcbdb1",
   "metadata": {},
   "source": [
    "Wenn ich jetzt die Datei output1-grayscale.bmp öffne, kommt folgendes Bild raus:"
   ]
  },
  {
   "cell_type": "markdown",
   "id": "c1a46146-e745-47b9-9821-96e64b71a41b",
   "metadata": {},
   "source": [
    "![](Downloads/out.bmp)"
   ]
  },
  {
   "cell_type": "markdown",
   "id": "ce3139b7-b221-4d6d-90c1-935cb6a05140",
   "metadata": {},
   "source": [
    "Genauso, kann ich auch die anderen Filter anwenden, um die folgenden Bilder zu erhalten <br>\n",
    "wie `sepia`:"
   ]
  },
  {
   "cell_type": "markdown",
   "id": "d53a792d-522a-43d5-b791-44f3b8ad7160",
   "metadata": {},
   "source": [
    "![](Pictures/jupyter_bilder/output2-sepia.bmp)"
   ]
  },
  {
   "cell_type": "markdown",
   "id": "f1cc9741-02bd-4465-b8c9-fb2e7fba569f",
   "metadata": {},
   "source": [
    "`reflect`:"
   ]
  },
  {
   "cell_type": "markdown",
   "id": "c09af0dd-8330-4a9d-8001-c49bca00093f",
   "metadata": {},
   "source": [
    "![output3-reflect.bmp](attachment:output3-reflect.bmp)"
   ]
  },
  {
   "cell_type": "markdown",
   "id": "36e93049-c20d-4cc5-a92f-1bd6fbeff282",
   "metadata": {},
   "source": [
    "oder `blur`:"
   ]
  },
  {
   "cell_type": "markdown",
   "id": "102eba9f-948f-4427-84cc-5c6f974090ca",
   "metadata": {},
   "source": [
    "![](Pictures/jupyter_bilder/output4-blured.bmp)"
   ]
  },
  {
   "cell_type": "markdown",
   "id": "08b57188-f352-4eb7-ac2f-fa4779737067",
   "metadata": {},
   "source": [
    "Beispielhafte Konsole/Terminal eingaben:"
   ]
  },
  {
   "cell_type": "markdown",
   "id": "f031842a-6476-4c2f-9034-b50c8012507a",
   "metadata": {},
   "source": [
    "`make filter` <br>\n",
    "`./filter -g ./images/input1.bmp output1-grayscale.bmp` <br>\n",
    "`./filter -s ./images/input2.bmp output2-sepia.bmp` <br>\n",
    "`./filter -r ./images/input3.bmp output3-reflect.bmp` <br>\n",
    "`./filter -b ./images/input4.bmp output4-blured.bmp` <br>"
   ]
  },
  {
   "cell_type": "markdown",
   "id": "f553e680-74f9-4d36-ab74-0129c90fdbcd",
   "metadata": {},
   "source": [
    "# Hintergrundwissen"
   ]
  },
  {
   "cell_type": "markdown",
   "id": "5d05c608-d1f7-4b08-8e75-ceb491b3c192",
   "metadata": {},
   "source": [
    "Eine Datei ist eine Sequenz von Bits. Wir benutzen für diese Aufgabe den 24-Bit BMP Format, um Bilder darzustellen. Die 24-Bit kommen daher, dass man um jede Farbe darzustellen genau 8 Bit braucht, für Rot, Grün und Blau. Mit der Kombination dieser drei Farben, können wir jede andere Farbe darstellen. <br>\n",
    "Also enhällt unsere BMP-Datei den Wert eines Pixels in 24 Bit. In den nächsten 24 Bit wird der nächste Pixel dargestellt. <br>\n",
    "Wir müssen jedoch beachten, dass eine BMP-Datei auch Meta-Daten enthällt. Diese enthalten Informationen, wie die Höhe und Breite des Bildes. Diese Meta-Daten sind am Anfang einer BMP-Datei, im sogenannten Header gespeichert. Es gibt zwei Header am Anfang jeder BMP-Datei. "
   ]
  },
  {
   "cell_type": "markdown",
   "id": "9b4f6595-2ca5-4836-9dd0-4b4c57d1fd39",
   "metadata": {},
   "source": [
    "Der erste Header `BITMAPFILEHEADER` ist 14 Byte lang (also 14 * 8 Bit). Der zweite Header `BITMAPINFOHEADER` ist genau 40 Byte lang. <br>\n",
    "Sofort dannach kommt die BITMAP, also das Array von Bytes, dass die Pixelwerte darstellt. Man muss wissen, dass BMP-Datein, die Farben rückwärts abspeichern. Also nicht als RGB (für rot, grün und blau), sonder als BGR (für blau, grün, rot). Manche BMP-Datein, enthalten die ganze Bitmap rückwärts, aber in unserem Fall ist sie von oben nach unten abgespeichert."
   ]
  },
  {
   "cell_type": "markdown",
   "id": "4052a6b3-7083-4ad8-b081-22c4778821c7",
   "metadata": {},
   "source": [
    "![](Pictures/jupyter_bilder/bmp_smiley.png)"
   ]
  },
  {
   "cell_type": "markdown",
   "id": "0e7eb11c-6530-44ff-9393-58b1b7a80c9e",
   "metadata": {},
   "source": [
    "Auf diesem Foto wird eine Bitmap dargestellt, die einen Smiley abbildet. Wir sehen, dass eine Bitmap als ein zwei-dimensionales-Array repräsentiert werden kann. Somit wissen wir dann auch, wie wir damit arbeiten können."
   ]
  },
  {
   "cell_type": "markdown",
   "id": "e2813b19-ac8c-405b-a2e4-028922d9279c",
   "metadata": {},
   "source": [
    "Bitte beachte, dass wir von rechts oben, nach links unten arbeiten."
   ]
  },
  {
   "cell_type": "markdown",
   "id": "eeea1b50-0658-4501-b05d-db76adeab124",
   "metadata": {},
   "source": [
    "## Hexadezimale Werte und Farben"
   ]
  },
  {
   "cell_type": "markdown",
   "id": "8466268a-8cfc-4ba4-92e4-91d5461e0c59",
   "metadata": {},
   "source": [
    "In der digitalen Bildbearbeitung wird oft das Hexadezimalsystem verwendet, um Farbwerte anzugeben. Ein Hexadezimalwert setzt sich aus Ziffern zusammen, die von 0 bis 9 und von A bis F reichen, wobei A für 10 und F für 15 steht. Dieses System ermöglicht eine kompakte Darstellung von Farbwerten. In einem 24-Bit-Farbschema, wie es häufig für digitale Bilder verwendet wird, besteht jede Farbe aus drei Komponenten: Rot (R), Grün (G) und Blau (B). Jede Komponente kann Werte von 0 bis 255 annehmen, was in Hexadezimal von 00 bis FF entspricht. Ein Hexadezimalfarbwert wie #FF0000 repräsentiert zum Beispiel ein reines Rot, da der Rotanteil maximal ist (FF), während Grün und Blau auf 0 gesetzt sind (00 und 00). Die Verwendung von Hexadezimalwerten ermöglicht eine präzise und effiziente Steuerung der Farben in digitalen Bildern."
   ]
  },
  {
   "cell_type": "markdown",
   "id": "8360f437-88bf-48c0-b57f-02170eff9610",
   "metadata": {},
   "source": [
    "## Verständnis von RGB-Farbwerten"
   ]
  },
  {
   "cell_type": "markdown",
   "id": "bb5e11d5-6a51-485e-9767-1278431dd75e",
   "metadata": {},
   "source": [
    "RGB steht für Rot, Grün und Blau - die drei primären Lichtfarben, aus denen durch ihre unterschiedlichen Kombinationen nahezu alle anderen Farben im digitalen Farbraum erzeugt werden können. Jede Farbe im RGB-System wird durch einen spezifischen Wert für Rot, Grün und Blau definiert, wobei jeder Wert typischerweise im Bereich von 0 bis 255 liegt. Diese Zahlen repräsentieren die Intensität oder Helligkeit der jeweiligen Farbe. Zum Beispiel entspricht (255, 0, 0) einem reinen Rot, da die Intensität von Rot maximal ist, während Grün und Blau keine Beiträge leisten. Ein Wert von (0, 0, 0) steht für Schwarz, da alle Lichtquellen ausgeschaltet sind, und (255, 255, 255) repräsentiert Weiß, bei dem Rot, Grün und Blau mit voller Intensität leuchten."
   ]
  },
  {
   "cell_type": "markdown",
   "id": "8cd09ef5-ab66-493c-9212-cc2b872e50dc",
   "metadata": {},
   "source": [
    "# Gegebene Code"
   ]
  },
  {
   "cell_type": "markdown",
   "id": "5380c4ec-6254-432d-9913-52649c302328",
   "metadata": {},
   "source": [
    "Diesen Code sollen Sie nutzen und nur die vier Funktion implementieren. Nehmen Sie keine anderen Änderungen vor."
   ]
  },
  {
   "cell_type": "code",
   "execution_count": null,
   "id": "2529627b-67a6-4309-b292-2c66d49ecfc4",
   "metadata": {},
   "outputs": [],
   "source": [
    "from PIL import Image # nicht ändern\n",
    "\n",
    "def load_image(infile): # nicht ändern \n",
    "    # Lädt ein Bild und gibt es als ein PIL Image-Objekt zurück.\n",
    "    return Image.open(infile)\n",
    "\n",
    "def save_image(image, outfile): # nicht ändern\n",
    "    # Speichert ein PIL Image-Objekt in einer Datei.\n",
    "    image.save(outfile)\n",
    "\n",
    "def grayscale(image): # TODO\n",
    "    \n",
    "    return image\n",
    "\n",
    "def sepia(image): # TODO\n",
    "\n",
    "    return image\n",
    "\n",
    "def reflect(image): # TODO\n",
    "\n",
    "    return image\n",
    "\n",
    "def blur(image): # TODO\n",
    "    \n",
    "    return image\n",
    "\n",
    "def main(): # nicht Ändern\n",
    "    # Hauptfunktion zum Anwenden von Filtern auf Bilder.\n",
    "    import sys\n",
    "    if len(sys.argv) != 4:\n",
    "        print(\"Usage: python filter.py [filter] infile outfile\")\n",
    "        sys.exit(1)\n",
    "\n",
    "    _, filter_arg, infile, outfile = sys.argv\n",
    "\n",
    "    # Bild laden\n",
    "    image = load_image(infile)\n",
    "    image = image.convert(\"RGB\")  # Stellt sicher, dass das Bild im RGB-Modus ist\n",
    "\n",
    "    # Filter auswählen und anwenden\n",
    "    if filter_arg == 'g':\n",
    "        filtered_image = grayscale(image)\n",
    "    elif filter_arg == 's':\n",
    "        filtered_image = sepia(image)\n",
    "    elif filter_arg == 'r':\n",
    "        filtered_image = reflect(image)\n",
    "    elif filter_arg == 'b':\n",
    "        filtered_image = blur(image)\n",
    "    else:\n",
    "        print(\"Invalid filter.\")\n",
    "        sys.exit(2)\n",
    "\n",
    "    # Gefiltertes Bild speichern\n",
    "    save_image(filtered_image, outfile)\n",
    "\n",
    "if __name__ == \"__main__\":\n",
    "    main()"
   ]
  },
  {
   "cell_type": "markdown",
   "id": "d7fd80f9-47cb-4fd4-b826-bbd71c7f16eb",
   "metadata": {},
   "source": [
    "# Herangehensweise"
   ]
  },
  {
   "cell_type": "markdown",
   "id": "f8ea7c1b-fae9-4177-93b2-af989970b3eb",
   "metadata": {},
   "source": [
    "Für diese Aufgabe muss man die Bibliothek Pillow herunterlanden."
   ]
  },
  {
   "cell_type": "markdown",
   "id": "28d45a54-718c-4fc0-b95f-ce0643beba3b",
   "metadata": {},
   "source": [
    "## Installation von Pillow"
   ]
  },
  {
   "cell_type": "markdown",
   "id": "8ad31476-1a27-4a4d-9d1f-c6687cce16ab",
   "metadata": {},
   "source": [
    "1. Öffnen Sie die Kommandozeile oder das Terminal:\n",
    "    - Unter Windows können Sie die Suche verwenden, um nach \"cmd\" zu suchen und die Eingabeaufforderung zu öffnen.\n",
    "    - Unter macOS können Sie das Terminal über Finder > Anwendungen > Dienstprogramme > Terminal öffnen.\n",
    "    - Unter Linux öffnen Sie das Terminal über das Anwendungsmenü oder mit einer Tastenkombination, die je nach Distribution variiert."
   ]
  },
  {
   "cell_type": "markdown",
   "id": "80c9a146-cbff-4863-ada7-c2097c613577",
   "metadata": {},
   "source": [
    "2. Installieren Sie Pillow mit pip:\n",
    "Geben Sie den folgenden Befehl ein, um Pillow zu installieren: <br>\n",
    "`pip install Pillow` <br>\n",
    "oder <br>\n",
    "`pip3 install Pillow`"
   ]
  },
  {
   "cell_type": "markdown",
   "id": "79f2b22c-5ddb-49bd-930a-7623a6150812",
   "metadata": {},
   "source": [
    "3. Überprüfung der Installation:\n",
    "Nach der Installation können Sie überprüfen, ob Pillow erfolgreich installiert wurde, indem Sie in der Python-Shell den folgenden Befehl ausführen: <br>\n",
    "`from PIL import Image` <br>\n",
    "Wenn dieser Befehl keine Fehler ausgibt, wurde Pillow erfolgreich installiert und ist bereit für die Verwendung in Ihren Projekten."
   ]
  },
  {
   "cell_type": "markdown",
   "id": "07ce54f0-48e4-4aef-a275-7a35839f4d4e",
   "metadata": {},
   "source": [
    "## Grayscale-Filter"
   ]
  },
  {
   "cell_type": "markdown",
   "id": "c53308d8-4912-41e6-88f0-05e7a7d8e725",
   "metadata": {},
   "source": [
    "**Einführung** <br>\n",
    "In der digitalen Bildbearbeitung ist die Umwandlung von Farbbildern in Graustufen eine grundlegende Technik, die vielfältige Anwendungen findet. Ein Graufilter reduziert die Farbinformationen eines Bildes, sodass jedes Pixel nur noch Intensitäten von Schwarz bis Weiß aufweist. Diese Art der Bildbearbeitung ist nicht nur aus ästhetischen Gründen beliebt, sondern auch für praktische Anwendungen unerlässlich. Ein nützliches Beispiel ist die Verbesserung der Texterkennung (OCR - Optical Character Recognition) in gescannten Dokumenten. Farbinformationen können die OCR-Genauigkeit beeinträchtigen, während der Kontrast in einem Graustufenbild oft die Erkennungsrate verbessert, indem er die Klarheit der Textkanten erhöht."
   ]
  },
  {
   "cell_type": "markdown",
   "id": "d24d09aa-11ca-47a8-a79c-baf50e07fc57",
   "metadata": {},
   "source": [
    "**Technische Umsetzung** <br>\n",
    "Wenn die Farbwerte eines Pixels 0 sind, ist der Pixel schwarz. Wenn sie 255 oder FF sind, dann ist der Pixel weiß. <br>\n",
    "Wenn in einem Pixel alle Farbwerte den gleichen Wert beinhalten, dann bekommen wir einen Grauton. Diese ist von der größe des Wertes abhängig. Kleine Werte führen zu einem dunkleren Grauton und höhere Werte zu einem helleren Grauton. <br>\n",
    "Beispiele: RGB: (127, 127, 127), (13, 13, 13) oder in HEX: 0xAAAAAA, 0x999999. Die `0x` ist nur eine Formalität. Damit geben wir an, dass es sich um einen Hexwert handelt."
   ]
  },
  {
   "cell_type": "markdown",
   "id": "d2b0711b-ea1a-4b8d-9005-f37c7be0bf02",
   "metadata": {},
   "source": [
    "Da wir einen Grauwert erhalten, wenn alle Farbwerte gleich sind, müssen wir also nur die Pixelwerte anpassen. Wie können wir das erreichen? <br>\n",
    "Eine sinnvolle Herangehensweise ist es den Durchschnittwert der einzelnen Farbwerte innerhalb eines Pixels zu berechnen. Dann müssen wir nur noch die Werte aktualisieren."
   ]
  },
  {
   "cell_type": "markdown",
   "id": "78ccdd14-a980-40fe-b053-65544f25bdf4",
   "metadata": {},
   "source": [
    "## Sepia-Filter: Ein Hauch von Nostalgie"
   ]
  },
  {
   "cell_type": "markdown",
   "id": "d109e743-c647-4c5f-ae47-5dd8a9c8af98",
   "metadata": {},
   "source": [
    "**Einführung** <br>\n",
    "Der Sepia-Filter ist ein beliebtes Werkzeug in der digitalen Bildbearbeitung, um Fotos einen klassischen, altmodischen Look zu verleihen. Der Effekt imitiert das Aussehen früher Fotografien, die oft in Sepia getönt waren, um ihre Langlebigkeit zu erhöhen. Das Ziel des Sepia-Filters ist es, moderne Bilder so aussehen zu lassen, als wären sie mit den fotografischen Techniken des späten 19. oder frühen 20. Jahrhunderts aufgenommen worden, indem er ihnen einen warmen, braunen Farbton verleiht."
   ]
  },
  {
   "cell_type": "markdown",
   "id": "b666d3fa-0002-4450-9a89-937bfd1579c0",
   "metadata": {},
   "source": [
    "**Technische Umsetzung** <br>\n",
    "Um den Sepia-Effekt zu erzielen, werden die RGB-Werte (Rot, Grün, Blau) jedes Pixels im Bild nach spezifischen Formeln angepasst, die darauf abzielen, die originalen Farben in die charakteristischen Sepia-Töne umzuwandeln. Die Umrechnung erfolgt nach den folgenden Gleichungen:"
   ]
  },
  {
   "cell_type": "markdown",
   "id": "8adb0ca8-5e42-4561-875e-569a7a2a7815",
   "metadata": {},
   "source": [
    "`SepiaRot = 0.393 * originalRot + 0.769 * originalGrün + 0.189 * originalBlau` <br>\n",
    "`SepiaGrün = 0.349 * originalRot + 0.686 * originalGrün + 0.168 * originalBlau` <br>\n",
    "`SepiaBlau = 0.272 * originalRot + 0.534 * originalGrün + 0.131 * originalBlau` <br>"
   ]
  },
  {
   "cell_type": "markdown",
   "id": "051da8c8-4d98-4381-8843-407504015844",
   "metadata": {},
   "source": [
    "Diese Berechnungen sorgen dafür, dass die resultierenden Farbwerte einen Braunton annehmen, der typisch für Sepia-Fotografien ist. Es ist wichtig, die Ergebnisse der Berechnung zu überprüfen und sicherzustellen, dass keine der neuen Farbwerte 255 überschreitet. Sollte dies der Fall sein, wird der Wert auf 255 begrenzt, um Überlauf zu vermeiden und die Farben korrekt darzustellen. Anschließend muss man nur noch die Farbwerte aktualisieren."
   ]
  },
  {
   "cell_type": "markdown",
   "id": "564759ec-6f8a-4fe8-95b5-a64b985cbc45",
   "metadata": {},
   "source": [
    "## Reflect-Filter"
   ]
  },
  {
   "cell_type": "markdown",
   "id": "8cba0d99-05bf-4b98-a8f2-5a69102c96d9",
   "metadata": {},
   "source": [
    "**Einführung** <br>\n",
    "Der Reflect-Filter, auch als Spiegelungsfilter bekannt, ist eine faszinierende Methode, um digitale Bilder auf kreative Weise zu manipulieren. Durch die Anwendung dieses Filters wird ein Bild entlang seiner vertikalen Achse gespiegelt, was zu einer interessanten und manchmal surrealen visuellen Erfahrung führt. Diese Technik kann genutzt werden, um einzigartige Kompositionen zu erstellen, die Aufmerksamkeit erregen oder spezifische visuelle Effekte erzielen, die in der ursprünglichen Aufnahme nicht vorhanden sind. <br>\n",
    "Der Reflect-Filter kann in verschiedenen kreativen Projekten eingesetzt werden. Zum Beispiel kann er dazu verwendet werden, eine symmetrische Komposition zu erstellen, die das Gefühl von Balance und Harmonie verstärkt. In der Landschafts- und Architekturfotografie kann der Filter interessante Effekte erzeugen, indem er die Illusion einer Wasserspiegelung erzeugt oder die Symmetrie eines Gebäudes hervorhebt. In der Porträtfotografie kann die Anwendung des Reflect-Filters ungewöhnliche und auffällige Ergebnisse liefern, die die doppelte Präsenz einer Person oder eines Objekts im Bild betonen."
   ]
  },
  {
   "cell_type": "markdown",
   "id": "3245384d-8521-4e75-9a0b-9e2ad172ea4a",
   "metadata": {},
   "source": [
    "**Technische Umsetzung** <br>\n",
    "Die Implementierung des Reflect-Filters in der Bildbearbeitung erfolgt durch das horizontale Umkehren des Bildes. Konkret bedeutet dies, dass für jedes Pixel in der linken Hälfte des Bildes ein entsprechendes Pixel in der rechten Hälfte gefunden und die Farbwerte dieser beiden Pixel miteinander getauscht werden. Diese Operation wird für alle Pixel bis zur Mitte des Bildes durchgeführt, wobei die Mitte als die vertikale Achse fungiert, an der das Bild gespiegelt wird."
   ]
  },
  {
   "cell_type": "markdown",
   "id": "6ab5d57c-25d6-468f-84f7-2bf2a156bc7c",
   "metadata": {},
   "source": [
    "## Blur-Filter"
   ]
  },
  {
   "cell_type": "markdown",
   "id": "7d805e89-1959-4183-bfe4-cda8fb780e71",
   "metadata": {},
   "source": [
    "**Einführung** <br>\n",
    "Der Blur-Filter, oder Unschärfefilter, ist ein essenzielles Werkzeug in der digitalen Bildbearbeitung und Fotografie. Er wird verwendet, um ein Bild weicher zu machen, indem die Klarheit der Kanten und Details verringert wird. Diese Technik kann hilfreich sein, um visuelles Rauschen oder Unvollkommenheiten in Fotos zu minimieren, den Fokus auf bestimmte Bildbereiche zu lenken oder einfach um ästhetische Effekte zu erzielen, die ein Gefühl von Bewegung oder Traumhaftigkeit vermitteln."
   ]
  },
  {
   "cell_type": "markdown",
   "id": "9a4bfd72-c41f-44ce-9e37-1b6100fe3938",
   "metadata": {},
   "source": [
    "**Technische Umsetzung** <br>\n",
    "Die Implementierung des Blur-Filters basiert auf der Durchschnittsbildung der Farbwerte eines Pixels und seiner Umgebung. Durch das Ersetzen jedes Pixelwertes im Bild mit dem Durchschnitt seiner umliegenden Pixel, werden scharfe Kanten und feine Details gemildert, was zu einer allgemeinen Unschärfe führt. Dieser Prozess wird für jedes Pixel im Bild wiederholt, was sicherstellt, dass das gesamte Bild gleichmäßig beeinflusst wird. <br>\n",
    "Beim Anwenden eines Unschärfefilters auf ein Bild ist der Umgang mit den Kanten und Ecken des Bildes eine besondere Herausforderung. An den Rändern des Bildes haben Pixel weniger Nachbarn, was bei der Durchschnittsberechnung berücksichtigt werden muss, um unerwünschte Effekte oder sichtbare Ränder im Bild zu vermeiden."
   ]
  },
  {
   "cell_type": "markdown",
   "id": "569db1ed-64bb-4264-afef-bec2cdc913c0",
   "metadata": {},
   "source": [
    "1. Padding (Auffüllen): Eine Methode besteht darin, das Bild mit einer zusätzlichen Schicht von Pixeln um die Ränder herum \"aufzufüllen\". Dies kann durch das Kopieren der Randpixel, das Hinzufügen einer festen Farbe oder das Spiegeln der nahegelegenen Pixel erfolgen. Das Padding ermöglicht es, für Randpixel eine vollständige Gruppe von Nachbarn zu haben, was eine gleichmäßigere Unschärfe über das gesamte Bild hinweg ermöglicht.\n",
    "\n",
    "2. Ignorieren der Randpixel: Eine einfachere, aber weniger bevorzugte Methode ist, die Randpixel bei der Unschärfeberechnung weniger zu berücksichtigen oder ganz auszulassen. Diese Technik kann jedoch zu ungleichmäßigen Effekten an den Bildrändern führen.\n",
    "\n",
    "3. Anpassung der Berechnung für Randpixel: Eine weitere Möglichkeit besteht darin, die Formel für die Unschärfe so anzupassen, dass für Pixel am Rand oder in der Ecke des Bildes nur die tatsächlich vorhandenen Nachbarn berücksichtigt werden. Dies bedeutet, dass der Durchschnitt basierend auf einer kleineren Anzahl von Pixeln berechnet wird. Diese Methode verhindert harte Kanten oder offensichtliche Übergänge an den Rändern des Bildes."
   ]
  },
  {
   "cell_type": "markdown",
   "id": "4b8cd02b-26d6-42bc-b393-177dff5e13e8",
   "metadata": {},
   "source": [
    "Probieren Sie die 3. Methode anzuwenden, für diese gibt es auch Unterstützung in diesem Artikel. Es kann sehr anspruchsvoll werden, aber lasst euch nicht entmutigen. Ich habe auch große Hilfe bei diesem Filter gebraucht."
   ]
  },
  {
   "cell_type": "markdown",
   "id": "2b6db21c-b0c8-425e-aaad-7bb6e84ee0ea",
   "metadata": {},
   "source": [
    "# Hinweise"
   ]
  },
  {
   "cell_type": "markdown",
   "id": "2029f08a-51f4-4cc3-919f-d9028f1a3e81",
   "metadata": {},
   "source": [
    "Zuerst müssen wir die größe des Bildes bestimmen, damit wir wissen wie groß unser Array sein soll. Dies tuen wir mit `width, height = image.size`"
   ]
  },
  {
   "cell_type": "markdown",
   "id": "84d809f6-5bda-4393-8d41-794f0b58d0ba",
   "metadata": {},
   "source": [
    "Um auf jedes einzelne Pixel zugreifen zu können, brauchen wir folgende Schleifen:"
   ]
  },
  {
   "cell_type": "code",
   "execution_count": null,
   "id": "f3ad610d-1291-40cf-8b67-1fb9efc10209",
   "metadata": {},
   "outputs": [],
   "source": [
    "for y in range(height):\n",
    "    for x in range(width):"
   ]
  },
  {
   "cell_type": "markdown",
   "id": "d9aaae99-dd52-4e75-acd2-3dc7dc71ed9c",
   "metadata": {},
   "source": [
    "Jetzt können Sie auf die einzelnen Pixel zugreifen. Jetzt brauchen Sie noch auf die einzelnen Farbwerte zuzugreifen: `r, g, b = image.getpixel((x, y))`."
   ]
  },
  {
   "cell_type": "markdown",
   "id": "b75dc9f6-cdf3-4342-9855-b215ada11556",
   "metadata": {},
   "source": [
    "Um die Farbwerte dann zu aktualisieren: `image.putpixel((x, y), (farbwert, farbwert, farbwert))`. Farbwert ersetzen Sie in diesem Fall mit dem Durchschnitt."
   ]
  },
  {
   "cell_type": "markdown",
   "id": "c1aebc65-d94a-428f-a2b8-e37fb8c8271b",
   "metadata": {},
   "source": [
    "## Grayscale"
   ]
  },
  {
   "cell_type": "code",
   "execution_count": null,
   "id": "0162b9d0-286b-4761-a370-0f7f692805fa",
   "metadata": {},
   "outputs": [],
   "source": [
    "def grayscale(image):\n",
    "    width, height = image.size\n",
    "    # durch alle Pixel iterieren\n",
    "    for y in range(height):\n",
    "        for x in range(width):\n",
    "            # die einzelnen Farbwerte erhalten\n",
    "            # den Durchschnitt von rot, grün und blau berechnen und in einer Variable abspeichern\n",
    "            # dann die Pixelwerte für rot, grün und blau aktualisieren, also durch den Durchschnitt ersetzen"
   ]
  },
  {
   "cell_type": "markdown",
   "id": "8bf110cc-2032-4eb2-8610-17669110ffdd",
   "metadata": {},
   "source": [
    "### weiterer Hinweis (aufklappen)"
   ]
  },
  {
   "cell_type": "code",
   "execution_count": null,
   "id": "4282797f-c70a-44b2-8113-d81ac65cfefd",
   "metadata": {},
   "outputs": [],
   "source": [
    "def grayscale(image):\n",
    "    width, height = image.size\n",
    "    # durch jedes Pixel iterieren\n",
    "    for y in range(height):\n",
    "        for x in range(width):\n",
    "            r, g, b = image.getpixel((x, y)) # die einzelnen Farbwerte erhalten\n",
    "            # den Durchschnitt berechnen\n",
    "            image.putpixel((x, y), (avg, avg, avg)) # Farbwerte aktualisieren\n",
    "    return image"
   ]
  },
  {
   "cell_type": "markdown",
   "id": "e54dff49-4d14-432c-96ce-75790120d0a1",
   "metadata": {},
   "source": [
    "## Sepia"
   ]
  },
  {
   "cell_type": "code",
   "execution_count": null,
   "id": "9d96f90b-86a0-44fe-91e6-c83a8a68fdc9",
   "metadata": {},
   "outputs": [],
   "source": [
    "def sepia(image):\n",
    "    width, height = image.size\n",
    "    # Durch alle Pixel iterieren\n",
    "    for y in range(height):\n",
    "        for x in range(width):\n",
    "            # Die einzelnen Farbwerte erhalten\n",
    "            # Sepia-Farbwerte berechnen\n",
    "            # Die Sepia-Farbwerte auf maximal 255 begrenzen\n",
    "            # Dann die Pixelwerte durch die Sepia-Farbwerte ersetzen\n",
    "    return image\n"
   ]
  },
  {
   "cell_type": "markdown",
   "id": "8d3943d0-4cf0-470e-944a-f88ce0728b2a",
   "metadata": {
    "jp-MarkdownHeadingCollapsed": true
   },
   "source": [
    "### weiterer Hinweis (aufklappen)"
   ]
  },
  {
   "cell_type": "code",
   "execution_count": null,
   "id": "3e57664c-c970-4e56-8422-240c788f0177",
   "metadata": {},
   "outputs": [],
   "source": [
    "def sepia(image):\n",
    "    width, height = image.size\n",
    "    # Durch alle Pixel iterieren\n",
    "    for y in range(height):\n",
    "        for x in range(width):\n",
    "            r, g, b = image.getpixel((x, y)) # Die einzelnen Farbwerte erhalten\n",
    "            # Sepia-Farbwerte berechnen\n",
    "            # Die Sepia-Farbwerte auf maximal 255 begrenzen\n",
    "            image.putpixel((x, y), (sepiaRed, sepiaGreen, sepiaBlue)) # Dann die Pixelwerte durch die Sepia-Farbwerte ersetzen\n",
    "    return image"
   ]
  },
  {
   "cell_type": "markdown",
   "id": "0f009ec8-323d-4a9e-a059-1f482b2a4589",
   "metadata": {},
   "source": [
    "## Reflect"
   ]
  },
  {
   "cell_type": "code",
   "execution_count": null,
   "id": "a3a29741-254b-4b02-9260-cead848da943",
   "metadata": {},
   "outputs": [],
   "source": [
    "def reflect(image):\n",
    "    width, height = image.size\n",
    "    for y in range(height):\n",
    "        for x in range(width // 2): # Durch alle Pixel iterieren, aber nur bis zur Hälfte der Breite, da wir Pixel von beiden Seiten tauschen\n",
    "            # Die Pixel auf der linken Seite erhalten\n",
    "            # Die entsprechenden Pixel auf der rechten Seite erhalten\n",
    "            # Pixel auf der linken Seite mit denen auf der rechten Seite tauschen\n",
    "    return image"
   ]
  },
  {
   "cell_type": "markdown",
   "id": "01b47c8f-bfae-4b7b-ad0e-15303a2d88d6",
   "metadata": {},
   "source": [
    "### weiterer Hinweis (aufklappen)"
   ]
  },
  {
   "cell_type": "code",
   "execution_count": null,
   "id": "9f196172-2c64-482e-bb4a-fa00d4be74a4",
   "metadata": {},
   "outputs": [],
   "source": [
    "def reflect(image):\n",
    "    width, height = image.size\n",
    "    for y in range(height):\n",
    "        for x in range(width // 2): # Durch alle Pixel iterieren, aber nur bis zur Hälfte der Breite, da wir Pixel von beiden Seiten tauschen\n",
    "            left_pixel = image.getpixel((x, y)) # Die Pixel auf der linken Seite erhalten\n",
    "            # Die entsprechenden Pixel auf der rechten Seite erhalten. Was muss anders sein gegenüber der linken Pixel?\n",
    "\n",
    "            # rechte Pixel aktualisieren. Was muss anders sein, gegenüber der linken Pixel?\n",
    "            image.putpixel((width - 1 - x, y), left_pixel) # linke Pixel aktualisieren\n",
    "    return image"
   ]
  },
  {
   "cell_type": "markdown",
   "id": "5b2c107c-0eef-46b7-9358-e9aa2f7d7e72",
   "metadata": {},
   "source": [
    "## Blur"
   ]
  },
  {
   "cell_type": "markdown",
   "id": "a998f76c-be7e-473a-894a-bfcccfcfade4",
   "metadata": {},
   "source": [
    "Wie kann man eine Kopie des Bildes erstellen? Mit `copy = image.copy()` <br>\n",
    "Wir müssen es jetzt hinbekommen, alle umgebenden Pixel, mit ihren Farbwerten, zu sammeln. Dies können wir tun, mit zwei `for`-Schleifen."
   ]
  },
  {
   "cell_type": "code",
   "execution_count": null,
   "id": "be502108-6753-4b51-9bc8-53f791d57d18",
   "metadata": {},
   "outputs": [],
   "source": [
    "for dy in [-1, 0, 1]:\n",
    "    for dx in [-1, 0, 1]:"
   ]
  },
  {
   "cell_type": "markdown",
   "id": "22aec0a4-df6f-4dfb-9edd-e52d241a4d8d",
   "metadata": {},
   "source": [
    "Diese verschachtelten Schleifen durchlaufen ein 3x3-Grid um ein zentrales Pixel herum. Jede Schleife (`for dy in [-1, 0, 1]` und `for dx in [-1, 0, 1]`) iteriert über drei Werte: -1, 0 und 1. Diese Werte repräsentieren die relative Position der umgebenden Pixel zum aktuellen Pixel in der Mitte des Grids. <br>\n",
    "- `dy` steht für die vertikale Verschiebung relativ zum aktuellen Pixel: -1 entspricht einem Pixel oberhalb, 0 bleibt auf der gleichen horizontalen Linie, und 1 entspricht einem Pixel unterhalb. <br>\n",
    "- `dx` steht für die horizontale Verschiebung relativ zum aktuellen Pixel: -1 entspricht einem Pixel links, 0 bleibt in derselben vertikalen Spalte, und 1 entspricht einem Pixel rechts. <br>"
   ]
  },
  {
   "cell_type": "markdown",
   "id": "19d99ab7-ac06-4cb2-bf80-82ce2dd3925b",
   "metadata": {},
   "source": [
    "Um nun die genauen Koordinaten jedes umgebenden Pixels zu bestimmen, verwenden wir:"
   ]
  },
  {
   "cell_type": "markdown",
   "id": "e5653bb0-9b00-4037-9d9d-1225273c6869",
   "metadata": {},
   "source": [
    "`nx, ny = x + dx, y + dy` # Berechnung der neuen Koordinaten für jedes umgebende Pixel"
   ]
  },
  {
   "cell_type": "markdown",
   "id": "db65c034-cfa8-4bd4-8042-12cb36ed525b",
   "metadata": {},
   "source": [
    "Diese Zeile berechnet die neuen Koordinaten `nx` und `ny`, indem sie die Verschiebungen `dx` und `dy` zu den aktuellen Koordinaten `x` und `y` des zentralen Pixels addiert. Dadurch werden die Positionen aller umgebenden Pixel relativ zum zentralen Pixel festgelegt, was es uns ermöglicht, deren Farbwerte für die weitere Verarbeitung zu sammeln."
   ]
  },
  {
   "cell_type": "markdown",
   "id": "8ad7a7bf-17dc-4a52-9511-839407c21db6",
   "metadata": {},
   "source": [
    "Nachdem die neuen Koordinaten berechnet wurden, steht uns nun die Herausforderung gegenüber, sicherzustellen, dass diese innerhalb der Bildgrenzen liegen. Dies ist von entscheidender Bedeutung, da ein Zugriff auf Pixel außerhalb des Bildbereichs zu Fehlern führen würde. Besonders an den Rändern und Ecken des Bildes, wo einige umgebende Pixel theoretisch außerhalb des Bildbereichs liegen könnten, muss dies berücksichtigt werden. Die Lösung für dieses Problem wird durch folgende Bedingung realisiert:"
   ]
  },
  {
   "cell_type": "code",
   "execution_count": null,
   "id": "284ff529-4ba8-45e7-a8e4-f8f708ed7fcc",
   "metadata": {},
   "outputs": [],
   "source": [
    "# Überprüfung, ob die neuen Koordinaten innerhalb der Bildgrenzen liegen\n",
    "if 0 <= nx < width and 0 <= ny < height:\n",
    "    pixels.append(copy.getpixel((nx, ny)))\n"
   ]
  },
  {
   "cell_type": "markdown",
   "id": "360fe634-25c5-42cd-8abc-ddead579a7e9",
   "metadata": {},
   "source": [
    "Diese Überprüfung gewährleistet, dass nur die Farbwerte von Pixeln gesammelt werden, die innerhalb des gültigen Bereichs des Bildes liegen. Durch diese Methode können wir eine korrekte Berechnung des Durchschnitts für den Unschärfeeffekt durchführen, ohne dass es zu Verzerrungen an den Bildrändern kommt.\n",
    "<hr>"
   ]
  },
  {
   "cell_type": "code",
   "execution_count": null,
   "id": "e28654cd-c3c9-44e1-a69a-352935aa6b96",
   "metadata": {},
   "outputs": [],
   "source": [
    "def blur(image):\n",
    "    width, height = image.size\n",
    "    # Erstellen einer Kopie des Bildes, um die Originalpixelwerte zu behalten\n",
    "    # Durch alle Pixel iterieren\n",
    "    for y in range(height):\n",
    "        for x in range(width):\n",
    "            # Sammeln der Farbwerte der umgebenden Pixel einschließlich des aktuellen Pixels\n",
    "                    # Überprüfen, ob der neue Index innerhalb der Bildgrenzen liegt\n",
    "            # Berechnen des Durchschnitts der Farbwerte\n",
    "            # Aktualisieren des aktuellen Pixels mit dem Durchschnittswert\n",
    "    return image"
   ]
  },
  {
   "cell_type": "markdown",
   "id": "e7c4bbf5-9ed9-44a9-9c8e-abab764a118a",
   "metadata": {},
   "source": [
    "### weiterer Hinweis (aufklappen)"
   ]
  },
  {
   "cell_type": "code",
   "execution_count": null,
   "id": "a07a3117-0ddf-4655-8e45-af190b95498d",
   "metadata": {},
   "outputs": [],
   "source": [
    "def blur(image):\n",
    "    width, height = image.size\n",
    "    copy = image.copy()  # Erstellen einer Kopie des Bildes, um die Originalpixelwerte zu behalten\n",
    "    # Durch alle Pixel iterieren\n",
    "    for y in range(height):\n",
    "        for x in range(width):\n",
    "            # Sammeln der Farbwerte der umgebenden Pixel einschließlich des aktuellen Pixels\n",
    "            pixels = []\n",
    "            for dy in [-1, 0, 1]:\n",
    "                for dx in [-1, 0, 1]:\n",
    "                    nx, ny = x + dx, y + dy\n",
    "                    # Überprüfen, ob der neue Index innerhalb der Bildgrenzen liegt\n",
    "                    if 0 <= nx < width and 0 <= ny < height:\n",
    "                        # die Anweisung hinzufügen\n",
    "                        \n",
    "            # Berechnen des Durchschnitts der Farbwerte\n",
    "            avg_r = sum(p[0] for p in pixels) // len(pixels)\n",
    "            # jetzt das gleiche für grün\n",
    "            # und dann noch für blau\n",
    "            \n",
    "            \n",
    "            # Aktualisieren des aktuellen Pixels mit dem Durchschnittswert, sowie im Grayscale-Filter\n",
    "    return image\n"
   ]
  },
  {
   "cell_type": "markdown",
   "id": "17f60390-18b2-4426-bd90-0673238cc4fd",
   "metadata": {},
   "source": [
    "# Lösungen"
   ]
  },
  {
   "cell_type": "markdown",
   "id": "840eef96-a3a8-4aa4-9af0-ac69b28b51c9",
   "metadata": {},
   "source": [
    "## Grayscale komplette Lösung (aufklappen)"
   ]
  },
  {
   "cell_type": "code",
   "execution_count": null,
   "id": "0153f901-0bf0-494c-80b1-00e662202bd0",
   "metadata": {},
   "outputs": [],
   "source": [
    "def grayscale(image):\n",
    "    width, height = image.size\n",
    "    # durch jedes Pixel iterieren\n",
    "    for y in range(height):\n",
    "        for x in range(width):\n",
    "            r, g, b = image.getpixel((x, y)) # die einzelnen Farbwerte erhalten\n",
    "            avg = (r + g + b) // 3 # den Durchschnitt berechnen\n",
    "            image.putpixel((x, y), (avg, avg, avg)) # Farbwerte aktualisieren\n",
    "    return image"
   ]
  },
  {
   "cell_type": "markdown",
   "id": "cf604d9a-45a1-4259-81fd-664a501a4d64",
   "metadata": {},
   "source": [
    "## Sepia komplette Lösung (aufklappen)"
   ]
  },
  {
   "cell_type": "code",
   "execution_count": null,
   "id": "fac40314-b4c3-4b19-ad1f-d7c81725a1bb",
   "metadata": {},
   "outputs": [],
   "source": [
    "def sepia(image):\n",
    "    width, height = image.size\n",
    "    for y in range(height):\n",
    "        for x in range(width):\n",
    "            r, g, b = image.getpixel((x, y))\n",
    "            sepiaRed = int(0.393 * r + 0.769 * g + 0.189 * b)\n",
    "            sepiaGreen = int(0.349 * r + 0.686 * g + 0.168 * b)\n",
    "            sepiaBlue = int(0.272 * r + 0.534 * g + 0.131 * b)\n",
    "            image.putpixel((x, y), (\n",
    "                min(sepiaRed, 255),\n",
    "                min(sepiaGreen, 255),\n",
    "                min(sepiaBlue, 255)\n",
    "            ))\n",
    "    return image"
   ]
  },
  {
   "cell_type": "markdown",
   "id": "851da173-5860-4578-87a0-0baf01a72ebe",
   "metadata": {},
   "source": [
    "## Reflect komplette Lösung (aufklappen)"
   ]
  },
  {
   "cell_type": "code",
   "execution_count": null,
   "id": "1a1b378d-f054-4c9f-97e8-448be74175a2",
   "metadata": {},
   "outputs": [],
   "source": [
    "def reflect(image):\n",
    "    width, height = image.size\n",
    "    for y in range(height):\n",
    "        for x in range(width // 2): # Durch alle Pixel iterieren, aber nur bis zur Hälfte der Breite, da wir Pixel von beiden Seiten tauschen\n",
    "            left_pixel = image.getpixel((x, y)) # Die Pixel auf der linken Seite erhalten\n",
    "            right_pixel = image.getpixel((width - 1 - x, y)) # Die entsprechenden Pixel auf der rechten Seite erhalten\n",
    "             # Pixel auf der linken Seite mit denen auf der rechten Seite tauschen\n",
    "            image.putpixel((x, y), right_pixel)\n",
    "            image.putpixel((width - 1 - x, y), left_pixel)\n",
    "    return image"
   ]
  },
  {
   "cell_type": "markdown",
   "id": "806a0877-c304-46e8-89d8-397eb60c4caa",
   "metadata": {},
   "source": [
    "## Blur komplette Lösung (aufklappen)"
   ]
  },
  {
   "cell_type": "code",
   "execution_count": null,
   "id": "5a198281-c012-4dcc-b14b-243c94214ec5",
   "metadata": {},
   "outputs": [],
   "source": [
    "def blur(image):\n",
    "    width, height = image.size\n",
    "    copy = image.copy()  # Erstellen einer Kopie des Bildes, um die Originalpixelwerte zu behalten\n",
    "    # Durch alle Pixel iterieren\n",
    "    for y in range(height):\n",
    "        for x in range(width):\n",
    "            # Sammeln der Farbwerte der umgebenden Pixel einschließlich des aktuellen Pixels\n",
    "            pixels = []\n",
    "            for dy in [-1, 0, 1]:\n",
    "                for dx in [-1, 0, 1]:\n",
    "                    nx, ny = x + dx, y + dy\n",
    "                    # Überprüfen, ob der neue Index innerhalb der Bildgrenzen liegt\n",
    "                    if 0 <= nx < width and 0 <= ny < height:\n",
    "                        pixels.append(copy.getpixel((nx, ny)))\n",
    "            # Berechnen des Durchschnitts der Farbwerte\n",
    "            avg_r = sum(p[0] for p in pixels) // len(pixels)\n",
    "            avg_g = sum(p[1] for p in pixels) // len(pixels)\n",
    "            avg_b = sum(p[2] for p in pixels) // len(pixels)\n",
    "            \n",
    "            image.putpixel((x, y), (avg_r, avg_g, avg_b)) # Aktualisieren des aktuellen Pixels mit dem Durchschnittswert\n",
    "    return image\n"
   ]
  },
  {
   "cell_type": "markdown",
   "id": "fba1e339-3f06-4f33-972c-83d619622877",
   "metadata": {},
   "source": [
    "# Programm ausführen"
   ]
  },
  {
   "cell_type": "markdown",
   "id": "1b93dbd4-51eb-4b7b-9f6c-ee0094cad3ee",
   "metadata": {},
   "source": [
    "Nachdem alle wenigstens eine Funktion implementiert ist, können Sie das Programm ausführen."
   ]
  },
  {
   "cell_type": "markdown",
   "id": "c1f63a1b-3f6c-48e1-bbc2-2aacf329c4d5",
   "metadata": {},
   "source": [
    "Gehen Sie dafür in eine Konsole oder Terminal und stellen Sie sicher, dass Sie sich im selben Ordner befinden, wie Ihr Pythonskript."
   ]
  },
  {
   "cell_type": "markdown",
   "id": "201f3a83-523c-4bf3-8624-c9a59fbc6ff1",
   "metadata": {},
   "source": [
    "Dann können Sie folgde Befehle ausführen, um die Filter anzuwenden und neue Bilder erstellen:"
   ]
  },
  {
   "cell_type": "markdown",
   "id": "e3c8cc7a-e04e-4873-85af-8dc339bda15d",
   "metadata": {},
   "source": [
    "`python3 ./scriptName.py filter eingabeBild ausgabeBild`"
   ]
  },
  {
   "cell_type": "markdown",
   "id": "7bcf224e-9ccf-4314-935a-1e41cda4d9a7",
   "metadata": {},
   "source": [
    "Hier ein spezifisches Beispiel:"
   ]
  },
  {
   "cell_type": "markdown",
   "id": "04b36334-aa39-4730-aabf-175e402ba9f2",
   "metadata": {},
   "source": [
    "` python3 .\\bildfilter.py g 'C:\\Users\\mikyt\\Downloads\\hfu_tuttlingen.bmp' output_grayscale.bmp`"
   ]
  },
  {
   "cell_type": "markdown",
   "id": "2b13c99b-cffd-4a73-8bd0-fa24e9dfa7b6",
   "metadata": {},
   "source": [
    "Bitte beachtet, dass die Eingabe vom Betriebssystem und der Art, wie Python installiert ist abhängig ist. <br>\n",
    "Bei Probleme, kopiert die Fehlermeldung in ein LLM euerer Wahl."
   ]
  }
 ],
 "metadata": {
  "kernelspec": {
   "display_name": "Python 3 (ipykernel)",
   "language": "python",
   "name": "python3"
  },
  "language_info": {
   "codemirror_mode": {
    "name": "ipython",
    "version": 3
   },
   "file_extension": ".py",
   "mimetype": "text/x-python",
   "name": "python",
   "nbconvert_exporter": "python",
   "pygments_lexer": "ipython3",
   "version": "3.12.2"
  }
 },
 "nbformat": 4,
 "nbformat_minor": 5
}
